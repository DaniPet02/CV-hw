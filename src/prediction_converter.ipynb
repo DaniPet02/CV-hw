{
 "cells": [
  {
   "cell_type": "code",
   "execution_count": 4,
   "metadata": {},
   "outputs": [
    {
     "name": "stderr",
     "output_type": "stream",
     "text": [
      "/tmp/ipykernel_6222/148542791.py:72: FutureWarning: You are using `torch.load` with `weights_only=False` (the current default value), which uses the default pickle module implicitly. It is possible to construct malicious pickle data which will execute arbitrary code during unpickling (See https://github.com/pytorch/pytorch/blob/main/SECURITY.md#untrusted-models for more details). In a future release, the default value for `weights_only` will be flipped to `True`. This limits the functions that could be executed during unpickling. Arbitrary objects will no longer be allowed to be loaded via this mode unless they are explicitly allowlisted by the user via `torch.serialization.add_safe_globals`. We recommend you start setting `weights_only=True` for any use case where you don't have full control of the loaded file. Please open an issue on GitHub for any issues related to this experimental feature.\n",
      "  pred_tensor = torch.load(path)  # [7, H, W]\n"
     ]
    },
    {
     "name": "stdout",
     "output_type": "stream",
     "text": [
      "All predictions processed and saved.\n"
     ]
    }
   ],
   "source": [
    "import os\n",
    "import torch\n",
    "import numpy as np\n",
    "from PIL import Image\n",
    "\n",
    "CLASS_INDEX_COLORS = [\n",
    "    (128, 64, 128),         # road - Purple\n",
    "    (244, 35, 232),         # flat - Pink\n",
    "    (220, 20, 60),          # human - Red\n",
    "    (0, 0, 142),            # vehicle - Blue\n",
    "    (70, 70, 70),           # construction - Gray\n",
    "    (107, 142, 35),         # background - Green\n",
    "]\n",
    "\n",
    "OUTPUT_DIR_COLOR = \"converted_predictions/color\"\n",
    "OUTPUT_DIR_OBJECT = \"converted_predictions/object\"\n",
    "\n",
    "os.makedirs(OUTPUT_DIR_COLOR, exist_ok=True)\n",
    "os.makedirs(OUTPUT_DIR_OBJECT, exist_ok=True)\n",
    "\n",
    "\n",
    "def convert_macroclass_to_color(pred_class):\n",
    "    \"\"\"Convert [H, W] prediction (0-5) to RGB image using macro class colors\"\"\"\n",
    "    pred_np = pred_class.cpu().numpy()\n",
    "    h, w = pred_np.shape\n",
    "    color_img = np.zeros((h, w, 3), dtype=np.uint8)\n",
    "\n",
    "    for class_idx, color in enumerate(CLASS_INDEX_COLORS):\n",
    "        mask = pred_np == class_idx\n",
    "        color_img[mask] = color\n",
    "        \n",
    "    return Image.fromarray(color_img)\n",
    "\n",
    "\n",
    "def save_object_mask_channel(pred_object):\n",
    "    \"\"\"Compute binary object mask image\"\"\"\n",
    "    object_mask = (pred_object > 0.5).cpu().numpy().astype(np.uint8) * 255\n",
    "    return Image.fromarray(object_mask)\n",
    "\n",
    "\n",
    "def process_prediction_file(pred_tensor: torch.Tensor, index: int):\n",
    "    \"\"\"\n",
    "    Saves the macro-class color image and binary object mask image of a single prediction tensor.\n",
    "    \n",
    "    Parameters:\n",
    "    - pred_tensor: [7, H, W] tensor output from the model\n",
    "    - index: integer to use in the filename (e.g., 1 for image_1)\n",
    "    \"\"\"\n",
    "    name = f\"image_{index}\"\n",
    "\n",
    "    # Color\n",
    "    pred_macro = pred_tensor[:6]  # [6, H, W]\n",
    "    class_indices = pred_macro.argmax(dim=0)\n",
    "    color_img = convert_macroclass_to_color(class_indices)\n",
    "    color_img.save(os.path.join(OUTPUT_DIR_COLOR, f\"{name}_color.png\"))\n",
    "\n",
    "    # Object mask\n",
    "    object_img = save_object_mask_channel(pred_tensor[6])\n",
    "    object_img.save(os.path.join(OUTPUT_DIR_OBJECT, f\"{name}_object.png\"))\n",
    "\n",
    "\n",
    "INPUT_DIR = \"saved_predictions\"\n",
    "prediction_files = sorted([f for f in os.listdir(INPUT_DIR) if f.endswith(\".pt\")])\n",
    "\n",
    "for pred_file in sorted(prediction_files):\n",
    "    idx = int(os.path.splitext(pred_file)[0].split('_')[1])\n",
    "    \n",
    "    path = os.path.join(INPUT_DIR, pred_file)\n",
    "    pred_tensor = torch.load(path)  # [7, H, W]\n",
    "    process_prediction_file(pred_tensor, idx)\n",
    "\n",
    "print(\"All predictions processed and saved.\")"
   ]
  }
 ],
 "metadata": {
  "kernelspec": {
   "display_name": "mnlp-env",
   "language": "python",
   "name": "python3"
  },
  "language_info": {
   "codemirror_mode": {
    "name": "ipython",
    "version": 3
   },
   "file_extension": ".py",
   "mimetype": "text/x-python",
   "name": "python",
   "nbconvert_exporter": "python",
   "pygments_lexer": "ipython3",
   "version": "3.11.2"
  }
 },
 "nbformat": 4,
 "nbformat_minor": 2
}
